{
 "cells": [
  {
   "cell_type": "markdown",
   "metadata": {},
   "source": [
    "If you are around probability and statistics for a while, then the word frequentist and bayesian must have been already passed through you. You might not have noticed it or maybe you noticed it but don't have a clear idea of the fundamental definitions of each of the words and the potential difference between them. If you fall in any of the aforementioned alleys, you need not worry because I am already here to discuss on frequentist and bayesian approaches.\n",
    "\n",
    "So then, let's get started.\n"
   ]
  },
  {
   "cell_type": "code",
   "execution_count": null,
   "metadata": {},
   "outputs": [],
   "source": []
  }
 ],
 "metadata": {
  "kernelspec": {
   "display_name": "Python 3",
   "language": "python",
   "name": "python3"
  },
  "language_info": {
   "codemirror_mode": {
    "name": "ipython",
    "version": 3
   },
   "file_extension": ".py",
   "mimetype": "text/x-python",
   "name": "python",
   "nbconvert_exporter": "python",
   "pygments_lexer": "ipython3",
   "version": "3.8.5"
  }
 },
 "nbformat": 4,
 "nbformat_minor": 5
}
