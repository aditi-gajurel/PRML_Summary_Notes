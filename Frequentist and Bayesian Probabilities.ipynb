{
 "cells": [
  {
   "cell_type": "markdown",
   "metadata": {},
   "source": [
    "If you are around the probability and statistics for a while, then the word frequentist and bayesian must have been already passed through you. Ypu might not have noticed it or may be you noticed it but don't have a clear idea on fundamental definations of each of the words and the potential difference between them. If you fall in any of the aforementioned alley, you need not worry because I am already here to dissect the word frequentist and bayesian, and perform succesfull operation on these topics.\n",
    "\n",
    "So then, let's \n"
   ]
  },
  {
   "cell_type": "code",
   "execution_count": null,
   "metadata": {},
   "outputs": [],
   "source": []
  }
 ],
 "metadata": {
  "kernelspec": {
   "display_name": "Python 3",
   "language": "python",
   "name": "python3"
  },
  "language_info": {
   "codemirror_mode": {
    "name": "ipython",
    "version": 3
   },
   "file_extension": ".py",
   "mimetype": "text/x-python",
   "name": "python",
   "nbconvert_exporter": "python",
   "pygments_lexer": "ipython3",
   "version": "3.8.5"
  }
 },
 "nbformat": 4,
 "nbformat_minor": 5
}
