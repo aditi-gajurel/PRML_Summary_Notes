{
 "cells": [
  {
   "cell_type": "markdown",
   "metadata": {},
   "source": [
    "## Frequentist Statistics\n",
    "\n"
   ]
  },
  {
   "cell_type": "markdown",
   "metadata": {},
   "source": [
    "Frequentist Statistics rely upon frequency in data. This approach takes into account the uncertainity through probabilty which is viewed in terms of random, repeatable events. Till this point of our content, we were on frequentist statistics, which is also widely known as classical interpretation of probability.\n",
    "\n",
    "Let's see an example of frequentist interpretation with an experiment of coin toss. Sampling size is fixed. We don't conduct out experiment for infinite number of times. Our objective is to find out or estimate the fairness of the coin, which is 0.5 for an ideal case.\n",
    "\n",
    "\n",
    "Suppose, we toss our coin for 100 times, and got 46 heads and 54 tails. We again conducted this experiment for 500 times and got results. The results are summarised in the table below:\n",
    "\n"
   ]
  },
  {
   "cell_type": "code",
   "execution_count": null,
   "metadata": {},
   "outputs": [],
   "source": []
  }
 ],
 "metadata": {
  "kernelspec": {
   "display_name": "Python 3",
   "language": "python",
   "name": "python3"
  },
  "language_info": {
   "codemirror_mode": {
    "name": "ipython",
    "version": 3
   },
   "file_extension": ".py",
   "mimetype": "text/x-python",
   "name": "python",
   "nbconvert_exporter": "python",
   "pygments_lexer": "ipython3",
   "version": "3.8.5"
  }
 },
 "nbformat": 4,
 "nbformat_minor": 4
}
