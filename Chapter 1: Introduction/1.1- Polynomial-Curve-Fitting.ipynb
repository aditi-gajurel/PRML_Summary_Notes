{
 "cells": [
  {
   "cell_type": "markdown",
   "metadata": {},
   "source": [
    "## Polynomial Curve Fitting"
   ]
  },
  {
   "cell_type": "markdown",
   "metadata": {},
   "source": [
    "\n",
    "- Polynomial Curve Fitting is an example of Regression, a supervised machine learning algorithm.\n",
    "- __End Goal of Curve Fitting__: We observe a real-valued input variable, $x$, and we intend to predict the target variable, $t$. Polynomial Curve fitting is a generalized term; curve fitting with various input variables, $x$, $y$, and many more.\n",
    "\n",
    "We will see curve fitting on a synthetic dataset.\n",
    "\n",
    "For the synthetic dataset, we will generate the data points from a function $\\text{sin2$\\pi$}x$ with some random normal noise included.\n"
   ]
  },
  {
   "cell_type": "code",
   "execution_count": 1,
   "metadata": {},
   "outputs": [
    {
     "data": {
      "image/png": "[encoded data removed]",
      "text/plain": [
       "<Figure size 432x288 with 1 Axes>"
      ]
     },
     "metadata": {
      "needs_background": "light"
     },
     "output_type": "display_data"
    }
   ],
   "source": [
    "## Imports\n",
    "import warnings\n",
    "import numpy as np\n",
    "import matplotlib.pyplot as plt\n",
    "\n",
    "## Set a seed\n",
    "np.random.seed(0)\n",
    "\n",
    "## Create Synthetic Dataset\n",
    "x = np.linspace(0.0, 1.0, num=10)\n",
    "t = (np.sin(2*np.pi*x)) + np.random.normal(0, 1, 10)\n",
    "\n",
    "txt=\"Fig 1.1: Scatter plot of the observations with targets\"\n",
    "plt.scatter(x, t)\n",
    "plt.xlabel(\"Observations, (x)\")\n",
    "plt.ylabel(\"Targets, (t)\")\n",
    "plt.title(\"Synthetic data points\")\n",
    "plt.savefig('1_1.png')\n",
    "plt.show()"
   ]
  },
  {
   "cell_type": "markdown",
   "metadata": {},
   "source": [
    "## In mathematical Notations\n",
    "\n",
    "$$\\text{x} = (x_1, x_2, ..., x_N)^T ==>\\text{N observations of x}$$\n",
    "\n",
    "$$\\text{t} = (t_1, t_2, ..., t_N)^T ==>\\text{N target variables, each corresponding to the ovservation data points}$$\n",
    "\n",
    "The scatter plot in Figure 1.1 possesses an underlying regularity which we want to learn. This is an intricate problem since we have a finite number of data set with noises embedded.\n",
    "\n",
    "Now, let's consider a simple approach for curve fitting. Consider a polyomial function of the form:\n",
    "\n",
    "$$y(x,w) =w_0 + w_1x + w_2x^2+...+w_Mx^M $$\n",
    "\n",
    "$$ = \\sum_{j=1}^{M}w_jx^j$$\n",
    "\n",
    "where,\n",
    "\n",
    "M = order of the polynomial \n",
    "\n",
    "$w_0, w_1, ..., w_M $= polynomial coefficients (denoted by vector, $\\text{v}$)\n",
    "\n",
    "__Remember__: $y(x,w)$ is non linear function of $x$ but the linear function of coefficients, $w$. Functions which are linear in terms of unknown parameters are called linear models.\n",
    "\n",
    "__Determinine the unknown parameters, $\\text{w}$__\n",
    "\n",
    "The value of the coefficients is found by fitting the polynomial to the training dataset. For this, we minimize the error function that calculates the misfit between function $y(x,w)$ and the training data points. One of the widely used error functions is the Sum of the Squares of the Errors (SSE).\n",
    "\n",
    "$$\\text{Sum of the Squares of Errors (SSE} = E(w) = \\frac{1}{2}\\sum_{n =1}^{N}{[{y(x_n, w) -t_n}]^2}$$\n",
    "\n",
    "$\\frac{1}{2}$ has a convenience, which we will see in later chapters. SSE is a non-negative quantity and we wish to choose unknown parameters, $\\text{w}$ to make SSE minimum. The error function is quadratic so its first derivative for coefficients, $\\text{w}$ will be a linear equation with $\\text{w}$ as unknown. So, we can solve for the unique values of $\\text{w}$, which we will denote by $\\text{w}^*$ since this set of parameters minimize the error function's value and the resulting curve is given by $y (x, w^*)$. \n",
    "\n",
    "\n",
    "__Determinine the order of the polynomial, $\\text{M}$__\n",
    "\n",
    "Now, we need to find $\\text{M}$ for the curve. $\\text{M}$ is the order of the polynomial and selection of the order of the polynomial comes under a broad topic, _Model Comparison_ or _Model Selection_.\n",
    "\n",
    "\n",
    "- With $\\text{M}=0$\n",
    "\n",
    "$$y(x, w) = w_0$$\n",
    "\n",
    "$$\\text{E(w)} = .5\\sum_{n =1}^{N}[{{w_0 -t_n}]^2}$$\n",
    "\n"
   ]
  },
  {
   "cell_type": "markdown",
   "metadata": {},
   "source": [
    "For the elucidation, we will see how the unique value for $\\text{w}$ is found out with $\\text{M} =0$, since it is easiest among all possible valued of $\\text{M}$ to calculate manually. For $\\text{M} = 0$, the coefficient(unknown parameter) is denoted by $w_0$, so we wil find $w_0$ now.\n",
    "\n",
    "The Error function fully expanded seems like:\n",
    "\n",
    "$$\\text{E($w_0$)} = .5*[\\ (w_0-1.76405235)^2 + (w_0-1.04294482)^2+ (w_0-1.96354574)^2+ (w_0-3.1069186)^2+ (w_0-2.20957813)^2+ (w_0+1.31929802)^2+ (w_0-0.08406301)^2+ (w_0+1.13616496)^2+ (w_0+0.74600646)^2+ (w_0-0.4105985)^2\\ ]$$\n",
    "\n"
   ]
  },
  {
   "cell_type": "code",
   "execution_count": 45,
   "metadata": {},
   "outputs": [],
   "source": [
    "from sympy import *"
   ]
  },
  {
   "cell_type": "code",
   "execution_count": 46,
   "metadata": {},
   "outputs": [],
   "source": [
    "w_0 = Symbol('w_0')\n",
    "E = .5 * ((w_0 - 1.76405235)**2 + (w_0 - 1.04294482)**2+ (w_0 - 1.96354574)**2+ (w_0 - 3.1069186)**2+ \n",
    "        (w_0 - 2.20957813)**2+ (w_0 + 1.31929802)**2+ (w_0 - 0.08406301)**2+ (w_0 + 1.13616496)**2+ \n",
    "        (w_0 + 0.74600646)**2+ (w_0 - 0.4105985)**2) "
   ]
  },
  {
   "cell_type": "markdown",
   "metadata": {},
   "source": [
    "Now, we compute the first derivative of $\\text{E($w_0$)}$ with respect to $w_0$ and solve it for $w_0$. Mathematically:\n",
    "\n",
    "$$\n",
    "\\frac{\\partial E(w_0)}{\\partial w_0} = 0\n",
    "$$\n",
    "\n",
    "In case, we choose higher $\\text{M}$, we would have more more unknown parameters, to state there would be $\\text{M+1}$, unknown parameters and we would find all the unknown parameters by simply taking the partial derivative of the error function w.r.t to all the unknown parameters."
   ]
  },
  {
   "cell_type": "code",
   "execution_count": 47,
   "metadata": {},
   "outputs": [
    {
     "name": "stdout",
     "output_type": "stream",
     "text": [
      "10.0*w_0 - 7.38023171\n"
     ]
    }
   ],
   "source": [
    "## Calculate the partial derivative w.r.t w_0\n",
    "Eprime = E.diff(w_0)\n",
    "\n",
    "## See the output\n",
    "print(Eprime)"
   ]
  },
  {
   "cell_type": "code",
   "execution_count": 48,
   "metadata": {},
   "outputs": [
    {
     "name": "stdout",
     "output_type": "stream",
     "text": [
      "[0.738023171000000]\n"
     ]
    }
   ],
   "source": [
    "## Solve the linear equation of Eprime by equating to 0.\n",
    "w_0 = solve(Eprime)\n",
    "print(w_0)"
   ]
  },
  {
   "cell_type": "markdown",
   "metadata": {},
   "source": [
    "So, now this is the value for $w_0$ to minimize the error function. Let's plot this line on the original data points set.\n",
    "\n",
    "$$\n",
    "y = 0.739$$"
   ]
  },
  {
   "cell_type": "code",
   "execution_count": 49,
   "metadata": {},
   "outputs": [
    {
     "data": {
      "image/png": "[encoded data removed]",
      "text/plain": [
       "<Figure size 432x288 with 1 Axes>"
      ]
     },
     "metadata": {
      "needs_background": "light"
     },
     "output_type": "display_data"
    }
   ],
   "source": [
    "plt.scatter(x, t)\n",
    "plt.show()"
   ]
  },
  {
   "cell_type": "code",
   "execution_count": 50,
   "metadata": {
    "scrolled": true
   },
   "outputs": [
    {
     "data": {
      "image/png": "[encoded data removed]",
      "text/plain": [
       "<Figure size 432x288 with 1 Axes>"
      ]
     },
     "metadata": {
      "needs_background": "light"
     },
     "output_type": "display_data"
    }
   ],
   "source": [
    "fig, ax = plt.subplots()\n",
    "ax.scatter(x, t)\n",
    "ax.hlines(y=0.739, xmin=0, xmax=1,color='r')\n",
    "plt.show()"
   ]
  },
  {
   "cell_type": "markdown",
   "metadata": {},
   "source": [
    "Similarly, now we will see the coefficient for other valued of $\\text{M}$. We will see for $\\text{M} = 1, 3, 9$. For the coefficient calculation, we won't go step by step as we did for $\\text{M}=0$. We will use a numpy librbay, numpy.polyfit which performs the least squares polynomial fit with the number of order specified."
   ]
  },
  {
   "cell_type": "code",
   "execution_count": 51,
   "metadata": {},
   "outputs": [
    {
     "name": "stdout",
     "output_type": "stream",
     "text": [
      "[-2.87998582  2.17801608]\n"
     ]
    }
   ],
   "source": [
    "## For M =1\n",
    "coefs = np.polyfit(x, t, 1)\n",
    "print(coefs)"
   ]
  },
  {
   "cell_type": "markdown",
   "metadata": {},
   "source": [
    "Now, we will plot the curve with these coefficients."
   ]
  },
  {
   "cell_type": "code",
   "execution_count": 52,
   "metadata": {},
   "outputs": [
    {
     "data": {
      "image/png": "[encoded data removed]",
      "text/plain": [
       "<Figure size 432x288 with 1 Axes>"
      ]
     },
     "metadata": {
      "needs_background": "light"
     },
     "output_type": "display_data"
    }
   ],
   "source": [
    "## Fitted Curve\n",
    "y = coefs[1] + coefs[0]*x \n",
    "\n",
    "## Plot the fitted curve\n",
    "plt.scatter(x, t, label = 'data points')\n",
    "plt.plot(x, y, c ='r', label ='fitted line with M=1')\n",
    "plt.legend()\n",
    "plt.show()"
   ]
  },
  {
   "cell_type": "code",
   "execution_count": 53,
   "metadata": {},
   "outputs": [
    {
     "name": "stdout",
     "output_type": "stream",
     "text": [
      "[ 30.12650107 -45.28783042  14.36416336   1.12207597]\n"
     ]
    }
   ],
   "source": [
    "## For M = 3\n",
    "coefs = np.polyfit(x, t, 3)\n",
    "print(coefs)"
   ]
  },
  {
   "cell_type": "code",
   "execution_count": 54,
   "metadata": {},
   "outputs": [
    {
     "data": {
      "image/png": "[encoded data removed]",
      "text/plain": [
       "<Figure size 432x288 with 1 Axes>"
      ]
     },
     "metadata": {
      "needs_background": "light"
     },
     "output_type": "display_data"
    }
   ],
   "source": [
    "## Fitted Curve\n",
    "y = coefs[3] + coefs[2]*x + coefs[1]*x**2 + coefs[0]*x**3\n",
    "\n",
    "## Plot the fitted curve\n",
    "plt.scatter(x, t, label = 'data points')\n",
    "plt.plot(x, y, c ='r', label ='fitted line with M=3')\n",
    "plt.legend()\n",
    "plt.show()"
   ]
  },
  {
   "cell_type": "code",
   "execution_count": 55,
   "metadata": {},
   "outputs": [
    {
     "name": "stdout",
     "output_type": "stream",
     "text": [
      "[-3.07007894e+05  1.34937867e+06 -2.47898606e+06  2.47025924e+06\n",
      " -1.44948523e+06  5.08745738e+05 -1.03533067e+05  1.11036868e+04\n",
      " -4.76434849e+02  1.76405235e+00]\n"
     ]
    }
   ],
   "source": [
    "## For M = 9\n",
    "coefs = np.polyfit(x, t, 9)\n",
    "print(coefs)"
   ]
  },
  {
   "cell_type": "code",
   "execution_count": 56,
   "metadata": {},
   "outputs": [
    {
     "data": {
      "image/png": "[encoded data removed]",
      "text/plain": [
       "<Figure size 432x288 with 1 Axes>"
      ]
     },
     "metadata": {
      "needs_background": "light"
     },
     "output_type": "display_data"
    }
   ],
   "source": [
    "## Fitted Curve\n",
    "y = coefs[9] + coefs[8]*x + coefs[7]*x**2 + coefs[6]*x**3 + coefs[5]*x**4 + coefs[4]*x**5 + coefs[3]*x**6 + coefs[2]*x**7 + coefs[1]*x**8 + coefs[0]*x**9\n",
    "\n",
    "## Plot the fitted curve\n",
    "plt.scatter(x, t, label = 'data points')\n",
    "plt.plot(x, y, c ='r', label ='fitted line with M=9')\n",
    "plt.legend()\n",
    "plt.show()"
   ]
  },
  {
   "cell_type": "markdown",
   "metadata": {},
   "source": [
    "## Conclusions/Inferences\n",
    "\n",
    "Now, from the above plots and orders of the polynomial, things are clear to an extent. We see that the order, $\\text{M} = 0$ and $\\text{M} =1$ fit poorly to the data points. When we opted for the much higher order, i.e., 9 then, the data points are completely captured by the fitted curve. In this case, the error is 0 since the fitted curve passes through each training data point and there are no residuals(errors). However, this fitted curve oscillates heavily and poorly represents the underlying function,  $\\text{sin2$\\pi$}x$. This behavior is widely popular as Over-fitting.\n",
    "\n",
    "The polynomial with the third-order seems to mimic the  $\\text{sin2$\\pi$}x$ most decently, thus making this the best fit. \n",
    "\n",
    "As stated earlier, the main aim of the Polynomial Curve Fitting is to achieve the best fit that generalizes the most. Generalization is the ability to categorize correctly new examples that differ from those used in the training dataset. And the polynomial with order 9 is very well on the training dataset but it fails in generalizing to the new data points. Hence, we called this fit an over-fit. The polynomial curve should be able to incorporate the new unseen data points too. Therefore, we have a training set and testing set, where the testing set is used to assess the fitted polynomial.\n",
    "\n",
    "Over-fitting is fatal to the models. Hence, we must try to get rid of this. We can do so by:\n",
    "- Increasing the number of data points while training.\n",
    "- Using regularization parameters. (not covered here)\n",
    "\n",
    "This is it for the Polynomial Curve Fitting. Now, let's get into section 1.2 Probability Theory."
   ]
  }
 ],
 "metadata": {
  "kernelspec": {
   "display_name": "Python 3",
   "language": "python",
   "name": "python3"
  },
  "language_info": {
   "codemirror_mode": {
    "name": "ipython",
    "version": 3
   },
   "file_extension": ".py",
   "mimetype": "text/x-python",
   "name": "python",
   "nbconvert_exporter": "python",
   "pygments_lexer": "ipython3",
   "version": "3.8.5"
  }
 },
 "nbformat": 4,
 "nbformat_minor": 4
}
