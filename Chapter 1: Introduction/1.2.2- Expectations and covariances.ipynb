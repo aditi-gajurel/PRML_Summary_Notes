{
 "cells": [
  {
   "cell_type": "markdown",
   "metadata": {},
   "source": [
    "## Expectation\n",
    "\n",
    "The expectation is mean in the simplest sense. But what is mean, in probability theory?"
   ]
  },
  {
   "cell_type": "markdown",
   "metadata": {},
   "source": [
    "Mean in probability theory or Expectation of any random variable is the weighted average of the probability distribution function of that random variable. Let's suppose, we have a random variable, $f(x)$, which has a sample space of $S$, then the expectation of random variable, $f(x)$ is given by:\n",
    "\n",
    "$$\n",
    "E[f] = \\sum_{x \\epsilon S}p(x)f(x)\n",
    "$$\n",
    "\n",
    "In the discrete distribution, the average is weighted by the relative probabilities of the different values of a random variable. In the case of a continuous random variable, we just replace sum by an integral, and the expression for expectation or average or mean of a continuous random variable becomes:\n",
    "\n",
    "$$\n",
    "E[f] = \\int p(x)f(x)dx\n",
    "$$\n",
    "For instance, let's suppose $S$ is the set of total gym participants in a gym hall, and we select a person uniformly at random. Let $f(x)$ be the selected participant's weight Then, the expected value, $E[f]$ is the average weight in that gym hall. This average value is of great importance in our daily life. Just imagine, you are in a gym and the first thing you want to know would be your weight relative to the average weight of the gym attendees. Thus, it is essential to know the expected value of a random variable.\n"
   ]
  },
  {
   "cell_type": "markdown",
   "metadata": {},
   "source": [
    "### Uniform Random Variable - Expectation\n",
    "\n",
    "In the earlier section, Probability Distribution Function, we learned that rolling a fair die is a uniform probability distribution since the probability of getting each of the six sices is uniform in every roll. We will use this discrete uniform probability distribution function and calculate its expectation."
   ]
  },
  {
   "cell_type": "code",
   "execution_count": 7,
   "metadata": {},
   "outputs": [],
   "source": [
    "##Sample Space\n",
    "S = [1, 2, 3, 4, 5, 6]\n",
    "\n",
    "# probabilities of each of the possible values of random variable\n",
    "p = {1 : 1/6, \n",
    "     2 : 1/6, \n",
    "     3 : 1/6, \n",
    "     4 : 1/6, \n",
    "     5 : 1/6, \n",
    "     6 : 1/6\n",
    "    } \n",
    "Expectation = 0\n",
    "for x in S:\n",
    "    Expectation+=x*p[x]"
   ]
  },
  {
   "cell_type": "code",
   "execution_count": 10,
   "metadata": {},
   "outputs": [
    {
     "name": "stdout",
     "output_type": "stream",
     "text": [
      "The Expectation of the fair rolling die is: 3.5\n"
     ]
    }
   ],
   "source": [
    "print(f\"The Expectation of the fair rolling die is: {Expectation}\")"
   ]
  },
  {
   "cell_type": "markdown",
   "metadata": {},
   "source": [
    "So, the average of the rolling die, which came out to be 3.5 can be quite confusing, but let's interpret this. If you roll the die a bunch of times and take the average (by summing the values you get and dividing by the number of rolls), the number is going to be close to 3.5. The more rolls you make, the closer the value is likely to be to exactly 3.5. The Law of the Large Numbers says that if you have infinite number of rolls, the actual average comes very very close to 3.5."
   ]
  },
  {
   "cell_type": "markdown",
   "metadata": {},
   "source": [
    "In many cases, we are given the finite number, $N$ of points, drawn from probability distribution or density, then the expectation can be in approximation be written as:\n",
    "    \n",
    "    \n",
    "$$\n",
    "    E[f] \\approx \\frac{1}{N}\\sum_{n=1}^{N}f(x_n)\n",
    "$$\n",
    "\n",
    "And remember, from the law of the large numbers, if $N\\rightarrow \\infty$, the expectation calculated becomes equal instead of approximation."
   ]
  },
  {
   "cell_type": "markdown",
   "metadata": {},
   "source": [
    "### Conditional Expectation\n",
    "\n"
   ]
  },
  {
   "cell_type": "markdown",
   "metadata": {},
   "source": [
    "We just saw the event probabilities that were conditioned on no events. Now, we will see, conditional expectation where the expectation of a random variable, $f(x)$ is conditioned on event $Y$. \n",
    "\n",
    "$$\n",
    "E_x[f|y] = \\sum_{x} p(x|y)f(x)\n",
    "$$\n",
    "\n",
    "In words, expectation of $f(x)$ conditioned on an event $Y$ is the probability weighted, average values of $f(x)$ over the outcomes of $Y$. \n",
    "\n",
    "For example, Conditional expectation is when we compute the expected value of a roll of a fair die, given, that the rolled number is greater than $2$."
   ]
  },
  {
   "cell_type": "markdown",
   "metadata": {},
   "source": [
    "### Variance"
   ]
  },
  {
   "cell_type": "markdown",
   "metadata": {},
   "source": [
    "To state in the proper steps, we calculate variance, first we calculate the difference between each point and the mean and secnodly, we square them and lastly we calculate the average of the squared terms, which is called the variance.\n",
    "\n",
    "In mathematical expression, variance of the random variable, $f(x)$ is defined by:\n",
    "\n",
    "$$\n",
    "\\text{var}[f] = E[(f(x)-E[f(x)])^2]\n",
    "$$\n",
    "\n",
    "Variance provides us a measure of how much variability there is in $f(x)$ around its mean value, i.e., $E(f(x))$."
   ]
  },
  {
   "cell_type": "markdown",
   "metadata": {},
   "source": [
    "### Covariance"
   ]
  },
  {
   "cell_type": "markdown",
   "metadata": {},
   "source": []
  }
 ],
 "metadata": {
  "kernelspec": {
   "display_name": "Python 3",
   "language": "python",
   "name": "python3"
  },
  "language_info": {
   "codemirror_mode": {
    "name": "ipython",
    "version": 3
   },
   "file_extension": ".py",
   "mimetype": "text/x-python",
   "name": "python",
   "nbconvert_exporter": "python",
   "pygments_lexer": "ipython3",
   "version": "3.8.5"
  }
 },
 "nbformat": 4,
 "nbformat_minor": 4
}
